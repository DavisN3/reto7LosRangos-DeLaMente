{
  "nbformat": 4,
  "nbformat_minor": 0,
  "metadata": {
    "colab": {
      "provenance": []
    },
    "kernelspec": {
      "name": "python3",
      "display_name": "Python 3"
    },
    "language_info": {
      "name": "python"
    }
  },
  "cells": [
    {
      "cell_type": "markdown",
      "source": [
        "Punto 1"
      ],
      "metadata": {
        "id": "jfynTcmk2207"
      }
    },
    {
      "cell_type": "code",
      "source": [
        "for i in range (1, 101): #Iniciamos en un rango desde 1 hasta 100.\n",
        "    print (i, i**2) # Imprimimos el valor de i y el cuadrado respectivo."
      ],
      "metadata": {
        "id": "4JImZcuS29r0"
      },
      "execution_count": null,
      "outputs": []
    },
    {
      "cell_type": "markdown",
      "source": [
        "Punto 2"
      ],
      "metadata": {
        "id": "DIo2ulhB2_fK"
      }
    },
    {
      "cell_type": "code",
      "source": [
        "print (\"Listando de números pares del 1 al 999\")\n",
        "for i in range (1, 1000): #Iniciamos en un rango desde 1 hasta 999.\n",
        "    if i % 2 == 0: #Creamos un filtro de números pares.\n",
        "        print (i) #Imprimimos los números.\n",
        "print (\"Listado de número impares del 2 al 1000\")\n",
        "for i in range (2, 1001): #Iniciamos en un rango desde 1 hasta 1000.\n",
        "    if i % 2 != 0: #Creamos un filtro de números impares.\n",
        "        print (i) #Imprimimos."
      ],
      "metadata": {
        "id": "Imj19j-13Ayc"
      },
      "execution_count": null,
      "outputs": []
    },
    {
      "cell_type": "markdown",
      "source": [
        "Punto 3"
      ],
      "metadata": {
        "id": "_NhOOzVDAdVw"
      }
    },
    {
      "cell_type": "code",
      "source": [
        "limite = int(input (\"Ingrese un número natural mayor o igual a 2: \")) #Solicitamos ingresar un número natural.\n",
        "#Ajuste para que si el número ingresado es impar convertirlo en par.\n",
        "if limite % 2 != 0:\n",
        "    limite -= 1\n",
        "#Imprimimos los números pares descendiento hasta 2\n",
        "for i in range (limite, 1, -2):\n",
        "    print (i)"
      ],
      "metadata": {
        "id": "TEz2gvjuAeaH"
      },
      "execution_count": null,
      "outputs": []
    },
    {
      "cell_type": "markdown",
      "source": [
        "Punto 4"
      ],
      "metadata": {
        "id": "U7LoIbnYIbQh"
      }
    },
    {
      "cell_type": "code",
      "source": [
        "limite = int(input (\"Ingrese un número natural: \")) #Solicitamos ingresar un número natural.\n",
        "\n",
        "for i in range (1, limite +1): #Iniciamos en un rango desde 1 hasta el número ingresado.\n",
        "    contador = 1 #Iniciamos un contador para cada número i, empezando desde uno\n",
        "\n",
        "    for k in range (1, i + 1): #Calculamos el valor de i\n",
        "        contador *= k #Multiplicamos el contador por k en cada iteración (aumenta igualmente respecto a i).\n",
        "    print (f\"El factorial de {i} es {contador}\") #Imprimimos."
      ],
      "metadata": {
        "id": "-V_yYY8bIcnS"
      },
      "execution_count": null,
      "outputs": []
    },
    {
      "cell_type": "markdown",
      "source": [
        "Punto 5"
      ],
      "metadata": {
        "id": "dUyiFO_SNvem"
      }
    },
    {
      "cell_type": "code",
      "source": [
        "exponente = float(input(\"Ingrese un número: \"))  # Solicitamos el exponente\n",
        "\n",
        "resultado = 1 #Iniciamos el resultado desde 1\n",
        "\n",
        "if exponente < 0: #Si el número es negativo:\n",
        "    for i in range (int(exponente), 0): # Si es decimal, aproximamos al entero más cercano, y declaramos un orden descendente hasta 0.\n",
        "        resultado*=2 #Multiplicamos por 2 cada número que recorre el rango.\n",
        "    resultado = 1 / resultado #Invertimos el resultado.\n",
        "else:\n",
        "    for i in range(int(exponente), 0, -1):# Si es decimal aproximamos al entero más cercano, declaramos un rango.\n",
        "        resultado *= 2 #Multiplicamos por 2 cada vez.\n",
        "\n",
        "print(f\"2 elevado a la potencia de {exponente} es {resultado}\") #Imprimimos.\n",
        "\n",
        "#Cabe recalcar que todo valor decimal se aproxima, y a su vez, el resultado decimal dado se aproxima al entero más cercano."
      ],
      "metadata": {
        "id": "XZRMmZxZNwcm"
      },
      "execution_count": null,
      "outputs": []
    },
    {
      "cell_type": "markdown",
      "source": [
        "Punto 6"
      ],
      "metadata": {
        "id": "gtl4mlmaT97G"
      }
    },
    {
      "cell_type": "code",
      "source": [
        "n = int(input(\"Ingrese un número natural: \")) #Ingresan un número natural\n",
        "x = float (input(\"Ingrese un número real: \")) #Ingresan un número real\n",
        "\n",
        "resultado = 1 #Inicializamos nuestro valor de resultado en 0.\n",
        "\n",
        "for i in range (n): #Calculamos x elevado a la n, multiplicando a x por sí un total de n veces\n",
        "    resultado *= x #Multiplicamos a x cada vez\n",
        "\n",
        "print(f\"{x} elevado a la potencia {n} es {resultado}\") #Imprimimos el resultado."
      ],
      "metadata": {
        "id": "vt3A7XQgT_cM"
      },
      "execution_count": null,
      "outputs": []
    },
    {
      "cell_type": "markdown",
      "source": [
        "Punto 7"
      ],
      "metadata": {
        "id": "LNe4a34hYKHL"
      }
    },
    {
      "cell_type": "code",
      "source": [
        "for contadorUno in range (1, 10): #Establecemos un primer contador que va a recorrer desde el 1 al 9.\n",
        "    print (f\"Tabla del {contadorUno}\") #Imprimimos el título de cada tabla\n",
        "    for contadorDos in range (1, 11): #Establecemos un primer contador que va a multiplicar al primero, de forma progresiva, desde el uno al 10.\n",
        "        print (f\"{contadorUno} x {contadorDos} = {contadorUno * contadorDos}\") #Realizamos la operación e imprimimos\n",
        "    print() #Espacio entre tablas."
      ],
      "metadata": {
        "id": "0ldMPjyyYLCy"
      },
      "execution_count": null,
      "outputs": []
    },
    {
      "cell_type": "markdown",
      "source": [
        "Punto 8"
      ],
      "metadata": {
        "id": "HD6HdsRNaSwC"
      }
    },
    {
      "cell_type": "code",
      "source": [
        "import math\n",
        "\n",
        "x = float(input(\"Ingrese un número real: \")) #El usuario ingresa el exponente.\n",
        "n = int(input(\"Ingrese el número de términos: \")) #El usuario ingresa el número de términos.\n",
        "\n",
        "aproximacion = 0 #Declaramos nuestro valoor de aproximación.\n",
        "for i in range(n + 1):\n",
        "    aproximacion += x**i / math.factorial(i) #Operación.\n",
        "\n",
        "valorReal = math.exp(x) #Traemos el valor de \"e\"\n",
        "\n",
        "#Imprimimos.\n",
        "print(f\"Aproximación de e^{x} usando {n} términos: {aproximacion}\")\n",
        "print(f\"Valor real de e^{x}: {valorReal}\")\n",
        "print(f\"Diferencia del valor real y la aproximación: {abs(valorReal - aproximacion)}\")"
      ],
      "metadata": {
        "id": "RBMYsxIMaT65"
      },
      "execution_count": null,
      "outputs": []
    },
    {
      "cell_type": "markdown",
      "source": [
        "Punto 9"
      ],
      "metadata": {
        "id": "SLuRrtcTqJQy"
      }
    },
    {
      "cell_type": "code",
      "source": [
        "import math\n",
        "\n",
        "x = float(input(\"Ingrese un número real: \")) #El usuario ingresa el valor de x.\n",
        "n = int(input(\"Ingrese el número de términos: \")) #El usuario ingresa el número de términos.\n",
        "\n",
        "#Usamos la aproximación de seno usando la serie de Maclurin\n",
        "aproximacion = 0\n",
        "for i in range (n+1):\n",
        "    termino = (((-1)**i)* (x)**(2*i+1))/math.factorial(2*i+1)\n",
        "    aproximacion += termino\n",
        "\n",
        "#Calculamos el valor real de Seno\n",
        "valorReal = math.sin(x)\n",
        "\n",
        "#Imprimimos\n",
        "print(f\"Aproximación de sin({x}) usando {n} términos: {aproximacion}\")\n",
        "print(f\"Valor real de sin({x}): {valorReal}\")\n",
        "print(f\"Diferencia entre valor real y aproximación: {abs(valorReal - aproximacion)}\")"
      ],
      "metadata": {
        "id": "17cmBJpLqSbp"
      },
      "execution_count": null,
      "outputs": []
    }
  ]
}